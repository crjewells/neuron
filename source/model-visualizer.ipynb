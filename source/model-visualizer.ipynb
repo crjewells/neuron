{
 "cells": [
  {
   "cell_type": "code",
   "execution_count": 11,
   "id": "d5de6edd",
   "metadata": {},
   "outputs": [],
   "source": [
    "# IMPORTS\n",
    "\n",
    "import random\n",
    "from neuron import h, gui\n",
    "from neuron.units import ms, mV, um, V, cm\n",
    "import numpy as np\n",
    "from matplotlib import pyplot as plt\n",
    "from matplotlib import animation\n",
    "from tqdm.notebook import tqdm\n",
    "import __main__\n",
    "\n",
    "import neuron\n",
    "import pyneuroml\n",
    "import pyneuroml.pynml\n",
    "from neuroml import NeuroMLDocument\n",
    "import neuroml.writers as writers\n",
    "from neuroml.utils import component_factory\n",
    "from neuroml.utils import validate_neuroml2\n",
    "from pyneuroml import pynml\n",
    "from pyneuroml.lems import LEMSSimulation\n",
    "import numpy as np\n",
    "from pyneuroml.plot.PlotMorphology import plot_2D\n",
    "from pyneuroml.plot.PlotMorphologyVispy import plot_interactive_3D\n",
    "\n",
    "from time import time\n",
    "import os.path\n",
    "\n",
    "from socket import gethostname\n",
    "\n",
    "%config InlineBackend.figure_formats = ['svg']\n",
    "\n"
   ]
  },
  {
   "cell_type": "code",
   "execution_count": 12,
   "id": "0d2ed7ed",
   "metadata": {},
   "outputs": [
    {
     "data": {
      "text/plain": [
       "1.0"
      ]
     },
     "execution_count": 12,
     "metadata": {},
     "output_type": "execute_result"
    }
   ],
   "source": [
    "# LOAD MODIFIED HOC FILE (AXON REMOVED)\n",
    "\n",
    "h.xopen('basal_project-modified.hoc')"
   ]
  },
  {
   "cell_type": "code",
   "execution_count": 13,
   "id": "21808032",
   "metadata": {},
   "outputs": [],
   "source": [
    "# LOAD DENDRITES OF INTERSET\n",
    "\n",
    "basal_dendrites = [h.a1_111,\n",
    "                   h.a9_122,\n",
    "                   h.a10_11,\n",
    "                   h.a5_1,\n",
    "                   h.a8_11,\n",
    "                   h.a3_11,\n",
    "                   h.a9_122,\n",
    "                   h.a9_121,\n",
    "                   h.a8_122,\n",
    "                   h.a8_121,\n",
    "                   h.a7_111]"
   ]
  },
  {
   "cell_type": "code",
   "execution_count": 14,
   "id": "c321050e-72b9-41e6-870b-b221537a8f5a",
   "metadata": {},
   "outputs": [
    {
     "data": {
      "text/plain": [
       "243.8985804846295"
      ]
     },
     "execution_count": 14,
     "metadata": {},
     "output_type": "execute_result"
    }
   ],
   "source": [
    "h.a1_111.L"
   ]
  },
  {
   "cell_type": "code",
   "execution_count": 15,
   "id": "adb77bb9-7791-42fb-ae13-06b153e639e0",
   "metadata": {},
   "outputs": [
    {
     "data": {
      "text/plain": [
       "243.97637060063005"
      ]
     },
     "execution_count": 15,
     "metadata": {},
     "output_type": "execute_result"
    }
   ],
   "source": [
    "h.a2_12122.L"
   ]
  },
  {
   "cell_type": "code",
   "execution_count": 16,
   "id": "547bfb65-9120-484c-b2cc-4e4df257b314",
   "metadata": {},
   "outputs": [
    {
     "data": {
      "text/plain": [
       "138.671320953448"
      ]
     },
     "execution_count": 16,
     "metadata": {},
     "output_type": "execute_result"
    }
   ],
   "source": [
    "h.distance(h.soma(1), h.a1_111(0.5)) "
   ]
  },
  {
   "cell_type": "code",
   "execution_count": 17,
   "id": "cc4be4c4-6558-4ca9-a933-d864566f9e24",
   "metadata": {},
   "outputs": [
    {
     "data": {
      "text/plain": [
       "159.4141788533693"
      ]
     },
     "execution_count": 17,
     "metadata": {},
     "output_type": "execute_result"
    }
   ],
   "source": [
    "h.distance(h.soma(1), h.a2_12122(0.5)) "
   ]
  },
  {
   "cell_type": "code",
   "execution_count": 18,
   "id": "0c91782a",
   "metadata": {},
   "outputs": [],
   "source": [
    "# COLORING OF DENDRITES OF INTEREST\n",
    "\n",
    "\n",
    "mode = 0\n",
    "h.pt3dconst(mode) # uses default section from pyramid.nrn\n",
    "s = h.Shape()\n",
    "h.define_shape()\n",
    "\n",
    "s.color_all(9)\n",
    "\n",
    "for sec in h.allsec():\n",
    "    for seg in sec:\n",
    "        seg.diam = 3\n",
    "\n",
    "for i, dend in enumerate(basal_dendrites):\n",
    "    for seg in dend:\n",
    "        seg.diam = 6\n",
    "    if i == 0:\n",
    "        s.color(4, sec=dend)\n",
    "    # else:\n",
    "    #     s.color(2, sec=dend)\n",
    "        "
   ]
  },
  {
   "cell_type": "code",
   "execution_count": 21,
   "id": "f9bca0f6",
   "metadata": {},
   "outputs": [
    {
     "name": "stdout",
     "output_type": "stream",
     "text": [
      "0.13644183259592166\n",
      "0.1036551754503037\n",
      "0.18983008598224263\n",
      "0.1908918274445452\n",
      "0.15351492365066505\n",
      "0.1524868875765255\n",
      "0.1036551754503037\n",
      "0.14738476986728904\n",
      "0.07442195196090524\n",
      "0.058910547400742384\n",
      "-0.029527395749957427\n"
     ]
    },
    {
     "data": {
      "text/plain": [
       "1.0"
      ]
     },
     "execution_count": 21,
     "metadata": {},
     "output_type": "execute_result"
    }
   ],
   "source": [
    "# MARK POINTS OF EXCITATION/INHIBITION ALONG EACH DENDRITE\n",
    "\n",
    "stim = []\n",
    "distance = 50\n",
    "\n",
    "for i, dend in enumerate(basal_dendrites):\n",
    "    s_f_s = h.distance(h.soma(1), dend(0))\n",
    "    loc = (distance - s_f_s)/dend.L\n",
    "    print(loc)\n",
    "    if i == 0:\n",
    "        stim.append(h.IClamp(dend(0.5)))\n",
    "        s.point_mark(stim[i], 4, \"O\", 8)\n",
    "#     else:\n",
    "#         stim.append(h.IClamp(dend(0)))\n",
    "#         s.point_mark(stim[i], 2, \"O\", 8) \n",
    "\n",
    "s.printfile(\"cell.eps\")"
   ]
  },
  {
   "cell_type": "code",
   "execution_count": 10,
   "id": "1b718fb3",
   "metadata": {},
   "outputs": [],
   "source": [
    "# https://www.neuron.yale.edu/neuron/static/py_doc/visualization/shape.html#Shape.show"
   ]
  },
  {
   "cell_type": "code",
   "execution_count": null,
   "id": "18dca624-5e3c-45d2-9ce5-6d6bdd95b5ce",
   "metadata": {},
   "outputs": [],
   "source": []
  }
 ],
 "metadata": {
  "kernelspec": {
   "display_name": "dendrite",
   "language": "python",
   "name": "dendrite"
  },
  "language_info": {
   "codemirror_mode": {
    "name": "ipython",
    "version": 3
   },
   "file_extension": ".py",
   "mimetype": "text/x-python",
   "name": "python",
   "nbconvert_exporter": "python",
   "pygments_lexer": "ipython3",
   "version": "3.9.18"
  }
 },
 "nbformat": 4,
 "nbformat_minor": 5
}
