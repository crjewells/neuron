{
 "cells": [
  {
   "cell_type": "code",
   "execution_count": 46,
   "id": "d5de6edd",
   "metadata": {},
   "outputs": [],
   "source": [
    "# IMPORTS\n",
    "\n",
    "import random\n",
    "from neuron import h, gui\n",
    "from neuron.units import ms, mV, um, V, cm\n",
    "import numpy as np\n",
    "from matplotlib import pyplot as plt\n",
    "from matplotlib import animation\n",
    "from tqdm.notebook import tqdm\n",
    "import __main__\n",
    "\n",
    "import neuron\n",
    "import pyneuroml\n",
    "import pyneuroml.pynml\n",
    "from neuroml import NeuroMLDocument\n",
    "import neuroml.writers as writers\n",
    "from neuroml.utils import component_factory\n",
    "from neuroml.utils import validate_neuroml2\n",
    "from pyneuroml import pynml\n",
    "from pyneuroml.lems import LEMSSimulation\n",
    "import numpy as np\n",
    "from pyneuroml.plot.PlotMorphology import plot_2D\n",
    "from pyneuroml.plot.PlotMorphologyVispy import plot_interactive_3D\n",
    "\n",
    "from time import time\n",
    "import os.path\n",
    "\n",
    "from socket import gethostname\n",
    "\n",
    "%config InlineBackend.figure_formats = ['svg']\n",
    "\n"
   ]
  },
  {
   "cell_type": "code",
   "execution_count": 47,
   "id": "0d2ed7ed",
   "metadata": {},
   "outputs": [
    {
     "data": {
      "text/plain": [
       "1.0"
      ]
     },
     "execution_count": 47,
     "metadata": {},
     "output_type": "execute_result"
    }
   ],
   "source": [
    "# LOAD MODIFIED HOC FILE (AXON REMOVED)\n",
    "\n",
    "h.xopen('basal_project-modified.hoc')"
   ]
  },
  {
   "cell_type": "code",
   "execution_count": 48,
   "id": "21808032",
   "metadata": {},
   "outputs": [],
   "source": [
    "# LOAD DENDRITES OF INTERSET\n",
    "\n",
    "basal_dendrites = [h.a1_111,\n",
    "                   h.a9_122,\n",
    "                   h.a10_11,\n",
    "                   h.a5_1,\n",
    "                   h.a8_11,\n",
    "                   h.a3_11,\n",
    "                   h.a9_122,\n",
    "                   h.a9_121,\n",
    "                   h.a8_122,\n",
    "                   h.a8_121,\n",
    "                   h.a7_111]"
   ]
  },
  {
   "cell_type": "code",
   "execution_count": 49,
   "id": "0c91782a",
   "metadata": {},
   "outputs": [],
   "source": [
    "# COLORING OF DENDRITES OF INTEREST\n",
    "\n",
    "\n",
    "mode = 0\n",
    "h.pt3dconst(mode) # uses default section from pyramid.nrn\n",
    "s = h.Shape()\n",
    "h.define_shape()\n",
    "\n",
    "s.color_all(9)\n",
    "\n",
    "for sec in h.allsec():\n",
    "    for seg in sec:\n",
    "        seg.diam = 3\n",
    "\n",
    "for i, dend in enumerate(basal_dendrites):\n",
    "    for seg in dend:\n",
    "        seg.diam = 6\n",
    "    if i == 0:\n",
    "        s.color(4, sec=dend)\n",
    "    else:\n",
    "        s.color(2, sec=dend)\n",
    "        "
   ]
  },
  {
   "cell_type": "code",
   "execution_count": 51,
   "id": "f9bca0f6",
   "metadata": {},
   "outputs": [
    {
     "ename": "SyntaxError",
     "evalue": "unmatched ')' (1610261250.py, line 8)",
     "output_type": "error",
     "traceback": [
      "\u001b[0;36m  Input \u001b[0;32mIn [51]\u001b[0;36m\u001b[0m\n\u001b[0;31m    loc = (distance - s_f_s)/dend.L)\u001b[0m\n\u001b[0m                                   ^\u001b[0m\n\u001b[0;31mSyntaxError\u001b[0m\u001b[0;31m:\u001b[0m unmatched ')'\n"
     ]
    }
   ],
   "source": [
    "# MARK POINTS OF EXCITATION/INHIBITION ALONG EACH DENDRITE\n",
    "\n",
    "stim = []\n",
    "distance = 139\n",
    "\n",
    "for i, dend in enumerate(basal_dendrites):\n",
    "    s_f_s = h.distance(h.soma(1), dend(0))\n",
    "    loc = (distance - s_f_s)/dend.L\n",
    "    if i == 0:\n",
    "        stim.append(h.IClamp(dend(loc)))\n",
    "        s.point_mark(stim[i], 4, \"O\", 8)\n",
    "    else:\n",
    "        stim.append(h.IClamp(dend(loc)))\n",
    "        s.point_mark(stim[i], 2, \"O\", 8) "
   ]
  },
  {
   "cell_type": "code",
   "execution_count": null,
   "id": "1b718fb3",
   "metadata": {},
   "outputs": [],
   "source": [
    "# https://www.neuron.yale.edu/neuron/static/py_doc/visualization/shape.html#Shape.show"
   ]
  }
 ],
 "metadata": {
  "kernelspec": {
   "display_name": "dendriteEnv",
   "language": "python",
   "name": "dendriteenv"
  },
  "language_info": {
   "codemirror_mode": {
    "name": "ipython",
    "version": 3
   },
   "file_extension": ".py",
   "mimetype": "text/x-python",
   "name": "python",
   "nbconvert_exporter": "python",
   "pygments_lexer": "ipython3",
   "version": "3.9.12"
  }
 },
 "nbformat": 4,
 "nbformat_minor": 5
}
