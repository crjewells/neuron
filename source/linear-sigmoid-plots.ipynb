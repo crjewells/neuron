{
 "cells": [
  {
   "cell_type": "code",
   "execution_count": null,
   "id": "f043d7ed-e612-4675-9154-dec0508f2aef",
   "metadata": {},
   "outputs": [],
   "source": [
    "# IMPORTS\n",
    "\n",
    "import random\n",
    "import csv\n",
    "import numpy as np\n",
    "from matplotlib import pyplot as plt\n",
    "from matplotlib import animation\n",
    "from tqdm.notebook import tqdm\n",
    "\n",
    "from time import time\n",
    "import os.path\n",
    "\n",
    "from socket import gethostname\n",
    "from scipy.optimize import curve_fit\n",
    "\n",
    "%config InlineBackend.figure_formats = ['svg']"
   ]
  },
  {
   "cell_type": "code",
   "execution_count": null,
   "id": "2641b29d-b264-4bc3-a82b-4197a2c56931",
   "metadata": {},
   "outputs": [],
   "source": [
    "def sigmoid(x, x0, A, B, k=1):\n",
    "    \"\"\"\n",
    "    x: x data point\n",
    "    x0: middle x data point of the sigmoid (inflection point)\n",
    "    A: scaling output factor (y: [0, A]) (typically, y_max)\n",
    "    B: horizontal shift (typically, y_min)\n",
    "    k: input scale (default to 1)\n",
    "    \"\"\"\n",
    "    \n",
    "    y = A / (1 + np.exp(-k*(x-x0))) + B\n",
    "    \n",
    "    return y\n",
    "\n",
    "def line(x, m, b):\n",
    "    return m*x + b\n",
    "\n",
    "def sigmoid_line(t_syn, p)\n",
    "    m = p[0]\n",
    "    b = p[1]\n",
    "    x0 = p[2]\n",
    "    A = p[3]\n",
    "    B = p[4]\n",
    "    k = p[5]\n",
    "\n",
    "    \n",
    "    x_vec = 0:dx:40\n",
    "    "
   ]
  },
  {
   "cell_type": "code",
   "execution_count": null,
   "id": "1db21144-c621-43d4-973f-b4fb4314ba4e",
   "metadata": {},
   "outputs": [],
   "source": []
  }
 ],
 "metadata": {
  "kernelspec": {
   "display_name": "Python 3 (ipykernel)",
   "language": "python",
   "name": "python3"
  },
  "language_info": {
   "codemirror_mode": {
    "name": "ipython",
    "version": 3
   },
   "file_extension": ".py",
   "mimetype": "text/x-python",
   "name": "python",
   "nbconvert_exporter": "python",
   "pygments_lexer": "ipython3",
   "version": "3.9.18"
  }
 },
 "nbformat": 4,
 "nbformat_minor": 5
}
