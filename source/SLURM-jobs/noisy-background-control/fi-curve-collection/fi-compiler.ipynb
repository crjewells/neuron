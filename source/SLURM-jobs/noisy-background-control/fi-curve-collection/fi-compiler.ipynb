{
 "cells": [
  {
   "cell_type": "code",
   "execution_count": 1,
   "id": "4cf398e8-0ebd-42cf-9c6e-eaa37ee2d0fa",
   "metadata": {},
   "outputs": [],
   "source": [
    "import numpy as np"
   ]
  },
  {
   "cell_type": "code",
   "execution_count": 3,
   "id": "ed1ab46b-43f9-48fe-b5cd-d3d71f312856",
   "metadata": {},
   "outputs": [],
   "source": [
    "f_vec = np.zeros((1, 61), dtype=float)\n",
    "for trial in range(1, 1001):\n",
    "    filename = \"fi-collection/trial\" + str(trial) + \".csv\"\n",
    "    data = np.loadtxt(filename, delimiter=\",\")\n",
    "    inj_i = data[0]\n",
    "    f = data[1]\n",
    "    \n",
    "    if trial > 1:\n",
    "        f_vec = np.vstack([f_vec, np.zeros((1, 61), dtype=float)])\n",
    "\n",
    "    f_vec[-1] = f\n",
    "\n",
    "f_vec = f_vec.mean(axis=0)\n",
    "\n",
    "new_filename = \"fi-curve.csv\"\n",
    "np.savetxt(new_filename, np.vstack((inj_i, f_vec)).T, delimiter=\",\")"
   ]
  },
  {
   "cell_type": "code",
   "execution_count": null,
   "id": "c517c608-bc0b-4565-b288-d9ac3fc4bb9b",
   "metadata": {},
   "outputs": [],
   "source": []
  }
 ],
 "metadata": {
  "kernelspec": {
   "display_name": "dendrite",
   "language": "python",
   "name": "dendrite"
  },
  "language_info": {
   "codemirror_mode": {
    "name": "ipython",
    "version": 3
   },
   "file_extension": ".py",
   "mimetype": "text/x-python",
   "name": "python",
   "nbconvert_exporter": "python",
   "pygments_lexer": "ipython3",
   "version": "3.9.18"
  }
 },
 "nbformat": 4,
 "nbformat_minor": 5
}
