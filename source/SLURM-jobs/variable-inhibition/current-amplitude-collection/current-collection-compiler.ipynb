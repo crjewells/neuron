{
 "cells": [
  {
   "cell_type": "code",
   "execution_count": 1,
   "id": "4cf398e8-0ebd-42cf-9c6e-eaa37ee2d0fa",
   "metadata": {},
   "outputs": [],
   "source": [
    "import numpy as np"
   ]
  },
  {
   "cell_type": "code",
   "execution_count": 19,
   "id": "ed1ab46b-43f9-48fe-b5cd-d3d71f312856",
   "metadata": {},
   "outputs": [],
   "source": [
    "inhib_g = [0, 0.001, 0.002, 0.003, 0.004, 0.005, 0.006, 0.007, 0.008, 0.009, 0.01, 0.011, 0.012, 0.013, 0.014, 0.015]\n",
    "\n",
    "amp_list = []\n",
    "\n",
    "for g_index in range(16):\n",
    "\n",
    "    f_vec = np.zeros((1, 101), dtype=float)\n",
    "    for trial in range(1, 16):\n",
    "        filename = \"current-collection/group\" + str(g_index) + \"-trial\" + str(trial) + \".csv\"\n",
    "        data = np.loadtxt(filename, delimiter=\",\")\n",
    "        inj_i = data[0]\n",
    "        f = data[1]\n",
    "        if trial > 1:\n",
    "            f_vec = np.vstack([f_vec, np.zeros((1, 101), dtype=float)])\n",
    "\n",
    "        f_vec[-1] = f\n",
    "\n",
    "    f_vec = f_vec.mean(axis=0)\n",
    "    \n",
    "    result_amp = 0\n",
    "    for i, f in enumerate(f_vec):\n",
    "        if f < 0.5:\n",
    "            result_amp = inj_i[i]\n",
    "    amp_list.append(result_amp)"
   ]
  },
  {
   "cell_type": "code",
   "execution_count": 20,
   "id": "a8a5cf7b-9687-4fd5-9117-060a1a6a48a9",
   "metadata": {},
   "outputs": [
    {
     "data": {
      "text/plain": [
       "[1.1,\n",
       " 1.275,\n",
       " 1.425,\n",
       " 1.5750000000000002,\n",
       " 1.75,\n",
       " 1.875,\n",
       " 2.0,\n",
       " 2.175,\n",
       " 2.2750000000000004,\n",
       " 2.4000000000000004,\n",
       " 2.55,\n",
       " 2.6500000000000004,\n",
       " 2.8,\n",
       " 2.875,\n",
       " 3.0,\n",
       " 3.125]"
      ]
     },
     "execution_count": 20,
     "metadata": {},
     "output_type": "execute_result"
    }
   ],
   "source": [
    "amp_list"
   ]
  },
  {
   "cell_type": "code",
   "execution_count": null,
   "id": "01889c96-a7f5-4392-94cb-10b63dcb0032",
   "metadata": {},
   "outputs": [],
   "source": []
  }
 ],
 "metadata": {
  "kernelspec": {
   "display_name": "dendrite",
   "language": "python",
   "name": "dendrite"
  },
  "language_info": {
   "codemirror_mode": {
    "name": "ipython",
    "version": 3
   },
   "file_extension": ".py",
   "mimetype": "text/x-python",
   "name": "python",
   "nbconvert_exporter": "python",
   "pygments_lexer": "ipython3",
   "version": "3.9.18"
  }
 },
 "nbformat": 4,
 "nbformat_minor": 5
}
