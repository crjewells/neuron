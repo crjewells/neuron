{
 "cells": [
  {
   "cell_type": "code",
   "execution_count": 1,
   "id": "0ae97c11-c811-4bb9-b0b3-56930fdbf025",
   "metadata": {},
   "outputs": [],
   "source": [
    "import os\n",
    "import csv\n",
    "import random\n",
    "import numpy as np"
   ]
  },
  {
   "cell_type": "code",
   "execution_count": 17,
   "id": "30e7a5d0-4b23-476b-a321-2371e9c2c4dd",
   "metadata": {},
   "outputs": [],
   "source": [
    "id = int(os.getenv('SLURM_ARRAY_TASK_ID'))\n",
    "group = int(np.ceil(id/100)) # GROUP NUMBER: All have the same experimental variable\n",
    "trial = id % 100         # TRIAL NUMBER: 1-100 for each experimental variable"
   ]
  },
  {
   "cell_type": "code",
   "execution_count": 13,
   "id": "26672956-d5c6-4ebd-9830-4175c078efcf",
   "metadata": {},
   "outputs": [],
   "source": [
    "sim_var = np.random.rand() + group"
   ]
  },
  {
   "cell_type": "code",
   "execution_count": 20,
   "id": "1f85bc85-9337-4a8f-ad40-37609dab36e7",
   "metadata": {},
   "outputs": [],
   "source": [
    "filename = \"test/group\" + str(group) + \"-t\" + str(trial) + \".csv\""
   ]
  },
  {
   "cell_type": "code",
   "execution_count": 23,
   "id": "616bc576-c1f1-40e3-8d32-8acf42d7ec01",
   "metadata": {},
   "outputs": [],
   "source": [
    "with open(filename, 'w', newline='') as f:\n",
    "     \n",
    "    # using csv.writer method from CSV package\n",
    "    write = csv.writer(f, delimiter=',')\n",
    "    write.writerow([sim_var])"
   ]
  },
  {
   "cell_type": "code",
   "execution_count": 21,
   "id": "1aa3148b-5002-481c-8184-a1ab96017454",
   "metadata": {},
   "outputs": [
    {
     "data": {
      "text/plain": [
       "'group1-t86.csv'"
      ]
     },
     "execution_count": 21,
     "metadata": {},
     "output_type": "execute_result"
    }
   ],
   "source": [
    "filename"
   ]
  }
 ],
 "metadata": {
  "kernelspec": {
   "display_name": "Python 3 (ipykernel)",
   "language": "python",
   "name": "python3"
  },
  "language_info": {
   "codemirror_mode": {
    "name": "ipython",
    "version": 3
   },
   "file_extension": ".py",
   "mimetype": "text/x-python",
   "name": "python",
   "nbconvert_exporter": "python",
   "pygments_lexer": "ipython3",
   "version": "3.9.18"
  }
 },
 "nbformat": 4,
 "nbformat_minor": 5
}
